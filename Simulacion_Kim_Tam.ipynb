{
 "cells": [
  {
   "cell_type": "code",
   "execution_count": 15,
   "id": "c8ba99b8-968f-4a03-b603-83a317745dc0",
   "metadata": {},
   "outputs": [
    {
     "data": {
      "text/html": [
       "<table class=\"dataframe\">\n",
       "<caption>A data.frame: 6 × 5</caption>\n",
       "<thead>\n",
       "\t<tr><th></th><th scope=col>xi</th><th scope=col>yi</th><th scope=col>yi_ast</th><th scope=col>muestra_A</th><th scope=col>muestra_B</th></tr>\n",
       "\t<tr><th></th><th scope=col>&lt;dbl&gt;</th><th scope=col>&lt;dbl&gt;</th><th scope=col>&lt;dbl&gt;</th><th scope=col>&lt;dbl&gt;</th><th scope=col>&lt;dbl&gt;</th></tr>\n",
       "</thead>\n",
       "<tbody>\n",
       "\t<tr><th scope=row>1</th><td>1.8055325</td><td>2.844448</td><td>2.1293793</td><td>0</td><td>1</td></tr>\n",
       "\t<tr><th scope=row>2</th><td>2.3943933</td><td>2.342176</td><td>1.3436692</td><td>0</td><td>1</td></tr>\n",
       "\t<tr><th scope=row>3</th><td>0.9631785</td><td>1.860783</td><td>1.9176751</td><td>0</td><td>1</td></tr>\n",
       "\t<tr><th scope=row>4</th><td>1.6078820</td><td>2.642730</td><td>0.9132405</td><td>0</td><td>1</td></tr>\n",
       "\t<tr><th scope=row>5</th><td>3.0243878</td><td>3.023734</td><td>2.0500059</td><td>0</td><td>0</td></tr>\n",
       "\t<tr><th scope=row>6</th><td>0.8369444</td><td>2.696996</td><td>1.3008383</td><td>0</td><td>0</td></tr>\n",
       "</tbody>\n",
       "</table>\n"
      ],
      "text/latex": [
       "A data.frame: 6 × 5\n",
       "\\begin{tabular}{r|lllll}\n",
       "  & xi & yi & yi\\_ast & muestra\\_A & muestra\\_B\\\\\n",
       "  & <dbl> & <dbl> & <dbl> & <dbl> & <dbl>\\\\\n",
       "\\hline\n",
       "\t1 & 1.8055325 & 2.844448 & 2.1293793 & 0 & 1\\\\\n",
       "\t2 & 2.3943933 & 2.342176 & 1.3436692 & 0 & 1\\\\\n",
       "\t3 & 0.9631785 & 1.860783 & 1.9176751 & 0 & 1\\\\\n",
       "\t4 & 1.6078820 & 2.642730 & 0.9132405 & 0 & 1\\\\\n",
       "\t5 & 3.0243878 & 3.023734 & 2.0500059 & 0 & 0\\\\\n",
       "\t6 & 0.8369444 & 2.696996 & 1.3008383 & 0 & 0\\\\\n",
       "\\end{tabular}\n"
      ],
      "text/markdown": [
       "\n",
       "A data.frame: 6 × 5\n",
       "\n",
       "| <!--/--> | xi &lt;dbl&gt; | yi &lt;dbl&gt; | yi_ast &lt;dbl&gt; | muestra_A &lt;dbl&gt; | muestra_B &lt;dbl&gt; |\n",
       "|---|---|---|---|---|---|\n",
       "| 1 | 1.8055325 | 2.844448 | 2.1293793 | 0 | 1 |\n",
       "| 2 | 2.3943933 | 2.342176 | 1.3436692 | 0 | 1 |\n",
       "| 3 | 0.9631785 | 1.860783 | 1.9176751 | 0 | 1 |\n",
       "| 4 | 1.6078820 | 2.642730 | 0.9132405 | 0 | 1 |\n",
       "| 5 | 3.0243878 | 3.023734 | 2.0500059 | 0 | 0 |\n",
       "| 6 | 0.8369444 | 2.696996 | 1.3008383 | 0 | 0 |\n",
       "\n"
      ],
      "text/plain": [
       "  xi        yi       yi_ast    muestra_A muestra_B\n",
       "1 1.8055325 2.844448 2.1293793 0         1        \n",
       "2 2.3943933 2.342176 1.3436692 0         1        \n",
       "3 0.9631785 1.860783 1.9176751 0         1        \n",
       "4 1.6078820 2.642730 0.9132405 0         1        \n",
       "5 3.0243878 3.023734 2.0500059 0         0        \n",
       "6 0.8369444 2.696996 1.3008383 0         0        "
      ]
     },
     "metadata": {},
     "output_type": "display_data"
    }
   ],
   "source": [
    "n <- 10000 #Tamaño de la población\n",
    "size_a <- 1000 #Tamaño de la muestra no probabilística\n",
    "\n",
    "xi <- rnorm(n, mean = 2, sd = 1) # Generamos xi a partir de una distribución normal N(2, 1)\n",
    "ei <- rnorm(n, mean = 0, sd = sqrt(0.51)) # Generamos ei a partir de una distribución normal N(0, 0.51)\n",
    "yi <- 3 + 0.7 * (xi - 2) + ei # Calculamos yi usando la ecuación yi = 3 + 0.7(xi - 2) + ei\n",
    "ui <- rnorm(n, mean = 0, sd = 0.5) # Generamos ui a partir de una distribución normal N(0, 0.5^2)\n",
    "yi_ast <- 2 + 0.9 * (yi - 3) + ui # Calculamos yi_ast usando la ecuación yi_ast = 2 + 0.9(yi - 3) + ui\n",
    "datos_simul <- data.frame(xi = xi, yi = yi, yi_ast = yi_ast)\n",
    "\n",
    "#Creamos la muestra probabilística\n",
    "datos_simul$muestra_A <- 0\n",
    "indices_seleccionados <- sample(1:n, size = size_a)\n",
    "datos_simul$muestra_A[indices_seleccionados] <- 1\n",
    "\n",
    "#Creamos la muestra no probabilística\n",
    "size_muestra_B <- 5000\n",
    "grupo_1 <- which(datos_simul$xi <= 2)  # Indices del grupo con xi <= 2\n",
    "grupo_2 <- which(datos_simul$xi > 2)   # Indices del grupo con xi > 2\n",
    "n_grupo_1 <- floor((3/5) * size_muestra_B)  # 3/5 del tamaño de la muestra para grupo_1\n",
    "n_grupo_2 <- size_muestra_B - n_grupo_1     # El resto (2/5) para grupo_2\n",
    "muestras_grupo_1 <- sample(grupo_1, size = n_grupo_1)\n",
    "muestras_grupo_2 <- sample(grupo_2, size = n_grupo_2)\n",
    "datos_simul$muestra_B <- 0\n",
    "datos_simul$muestra_B[muestras_grupo_1] <- 1\n",
    "datos_simul$muestra_B[muestras_grupo_2] <- 1"
   ]
  },
  {
   "attachments": {
    "268f0f8b-7473-4418-b1e4-bb06c9e61ea7.png": {
     "image/png": "[encoded data removed]"
    }
   },
   "cell_type": "markdown",
   "id": "695a697f-14bc-4979-b808-575602a0d377",
   "metadata": {},
   "source": [
    "![image.png](attachment:268f0f8b-7473-4418-b1e4-bb06c9e61ea7.png)"
   ]
  },
  {
   "cell_type": "code",
   "execution_count": 25,
   "id": "7dcc53d7-ae7b-4d18-a47c-818f754f9690",
   "metadata": {},
   "outputs": [
    {
     "data": {
      "text/html": [
       "3.04440195183841"
      ],
      "text/latex": [
       "3.04440195183841"
      ],
      "text/markdown": [
       "3.04440195183841"
      ],
      "text/plain": [
       "[1] 3.044402"
      ]
     },
     "metadata": {},
     "output_type": "display_data"
    }
   ],
   "source": [
    "N <- n\n",
    "Nb <- size_muestra_B\n",
    "\n",
    "sum_B <- sum(datos_simul$yi[datos_simul$muestra_B == 1])\n",
    "\n",
    "# Calculamos el estimador de PDI\n",
    "theta_PDI <- (1 / N) * (\n",
    "  sum_B +\n",
    "  (N - Nb) * mean(datos_simul$yi[datos_simul$muestra_A == 1 & datos_simul$muestra_B == 0])\n",
    ")\n",
    "\n",
    "# Mostrar el resultado del estimador\n",
    "theta_PDI\n"
   ]
  },
  {
   "cell_type": "markdown",
   "id": "af9172d9-f531-412e-ae2a-404999ff1af1",
   "metadata": {},
   "source": [
    "#### Simulación de MonteCarlo del paper (Sin incluir el estimador de calibración)"
   ]
  },
  {
   "cell_type": "code",
   "execution_count": 33,
   "id": "4d3f84f0-c74a-4eb9-a562-4be9c4b363d8",
   "metadata": {},
   "outputs": [],
   "source": [
    "# ---- Configuración inicial ----\n",
    "n <- 10000 # Tamaño de la población\n",
    "size_a <- 1000 # Tamaño de la muestra probabilística\n",
    "size_muestra_B <- 5000 # Tamaño de la muestra no probabilística"
   ]
  },
  {
   "cell_type": "code",
   "execution_count": 34,
   "id": "ada53bb3-9043-499f-9894-328b3088197a",
   "metadata": {},
   "outputs": [],
   "source": [
    "# ---- Función para generar los datos ----\n",
    "generar_datos <- function(n) {\n",
    "  xi <- rnorm(n, mean = 2, sd = 1) # Generamos xi a partir de una distribución normal N(2, 1)\n",
    "  ei <- rnorm(n, mean = 0, sd = sqrt(0.51)) # Generamos ei a partir de una distribución normal N(0, 0.51)\n",
    "  yi <- 3 + 0.7 * (xi - 2) + ei # Calculamos yi\n",
    "  ui <- rnorm(n, mean = 0, sd = 0.5) # Generamos ui a partir de una normal N(0, 0.5^2)\n",
    "  yi_ast <- 2 + 0.9 * (yi - 3) + ui # Calculamos yi_ast (con error de medición)\n",
    "  datos <- data.frame(xi = xi, yi = yi, yi_ast = yi_ast)\n",
    "  return(datos)\n",
    "}\n",
    "\n",
    "# ---- Función para seleccionar muestras A y B ----\n",
    "seleccionar_muestras <- function(datos, size_a, size_muestra_B) {\n",
    "  n <- nrow(datos)\n",
    "  \n",
    "  # Muestra A (probabilística)\n",
    "  datos$muestra_A <- 0\n",
    "  indices_seleccionados <- sample(1:n, size = size_a)\n",
    "  datos$muestra_A[indices_seleccionados] <- 1\n",
    "  \n",
    "  # Muestra B (no probabilística)\n",
    "  grupo_1 <- which(datos$xi <= 2)  # Indices del grupo con xi <= 2\n",
    "  grupo_2 <- which(datos$xi > 2)   # Indices del grupo con xi > 2\n",
    "  n_grupo_1 <- floor((3/5) * size_muestra_B)  # 3/5 para grupo_1\n",
    "  n_grupo_2 <- size_muestra_B - n_grupo_1     # 2/5 para grupo_2\n",
    "  muestras_grupo_1 <- sample(grupo_1, size = n_grupo_1)\n",
    "  muestras_grupo_2 <- sample(grupo_2, size = n_grupo_2)\n",
    "  datos$muestra_B <- 0\n",
    "  datos$muestra_B[muestras_grupo_1] <- 1\n",
    "  datos$muestra_B[muestras_grupo_2] <- 1\n",
    "  \n",
    "  return(datos)\n",
    "}\n",
    "\n",
    "# ---- Función para calcular theta_PDI en cada escenario ----\n",
    "calcular_theta_pdi <- function(datos, escenario) {\n",
    "  N <- nrow(datos)\n",
    "  Nb <- sum(datos$muestra_B == 1)\n",
    "  \n",
    "  if (escenario == 1) {\n",
    "    # Escenario 1: Usando yi (sin error)\n",
    "    sum_B <- sum(datos$yi[datos$muestra_B == 1])\n",
    "    theta_PDI <- (1 / N) * (sum_B + (N - Nb) * mean(datos$yi[datos$muestra_A == 1 & datos$muestra_B == 0]))\n",
    "  } else if (escenario == 2) {\n",
    "    # Escenario 2: Error en la muestra B (yi_ast para muestra B, yi para muestra A)\n",
    "    sum_B <- sum(datos$yi_ast[datos$muestra_B == 1])\n",
    "    theta_PDI <- (1 / N) * (sum_B + (N - Nb) * mean(datos$yi[datos$muestra_A == 1 & datos$muestra_B == 0]))\n",
    "  } else if (escenario == 3) {\n",
    "    # Escenario 3: Error en la muestra A (yi_ast para muestra A, yi para muestra B)\n",
    "    sum_B <- sum(datos$yi[datos$muestra_B == 1])\n",
    "    theta_PDI <- (1 / N) * (sum_B + (N - Nb) * mean(datos$yi_ast[datos$muestra_A == 1 & datos$muestra_B == 0]))\n",
    "  }\n",
    "  \n",
    "  return(theta_PDI)\n",
    "}\n"
   ]
  },
  {
   "cell_type": "code",
   "execution_count": 35,
   "id": "f3fa0f68-2131-4695-b582-33113263920b",
   "metadata": {},
   "outputs": [],
   "source": [
    "# ---- Simulación de Monte Carlo ----\n",
    "simulacion_montecarlo <- function(n_reps, size_a, size_muestra_B) {\n",
    "  resultados <- data.frame(\n",
    "    mean_A_esc1 = numeric(n_reps),\n",
    "    mean_B_esc1 = numeric(n_reps),\n",
    "    mean_A_esc2 = numeric(n_reps),\n",
    "    mean_B_esc2 = numeric(n_reps),\n",
    "    mean_A_esc3 = numeric(n_reps),\n",
    "    mean_B_esc3 = numeric(n_reps),\n",
    "    theta_PDI_esc1 = numeric(n_reps),\n",
    "    theta_PDI_esc2 = numeric(n_reps),\n",
    "    theta_PDI_esc3 = numeric(n_reps),\n",
    "    diff_A_esc1 = numeric(n_reps),\n",
    "    diff_B_esc1 = numeric(n_reps),\n",
    "    diff_A_esc2 = numeric(n_reps),\n",
    "    diff_B_esc2 = numeric(n_reps),\n",
    "    diff_A_esc3 = numeric(n_reps),\n",
    "    diff_B_esc3 = numeric(n_reps),\n",
    "    diff_PDI_esc1 = numeric(n_reps),\n",
    "    diff_PDI_esc2 = numeric(n_reps),\n",
    "    diff_PDI_esc3 = numeric(n_reps)\n",
    "  )\n",
    "  \n",
    "  for (rep in 1:n_reps) {\n",
    "    # Generamos los datos y seleccionamos muestras\n",
    "    datos_simul <- generar_datos(n)\n",
    "    datos_simul <- seleccionar_muestras(datos_simul, size_a, size_muestra_B)\n",
    "    \n",
    "    # Cálculo de las medias en muestra A y B en los tres escenarios\n",
    "    mean_A_esc1 <- mean(datos_simul$yi[datos_simul$muestra_A == 1])\n",
    "    mean_B_esc1 <- mean(datos_simul$yi[datos_simul$muestra_B == 1])\n",
    "    \n",
    "    mean_A_esc2 <- mean(datos_simul$yi[datos_simul$muestra_A == 1])\n",
    "    mean_B_esc2 <- mean(datos_simul$yi_ast[datos_simul$muestra_B == 1])\n",
    "    \n",
    "    mean_A_esc3 <- mean(datos_simul$yi_ast[datos_simul$muestra_A == 1])\n",
    "    mean_B_esc3 <- mean(datos_simul$yi[datos_simul$muestra_B == 1])\n",
    "    \n",
    "    # Cálculo de theta_PDI en los tres escenarios\n",
    "    theta_PDI_esc1 <- calcular_theta_pdi(datos_simul, escenario = 1)\n",
    "    theta_PDI_esc2 <- calcular_theta_pdi(datos_simul, escenario = 2)\n",
    "    theta_PDI_esc3 <- calcular_theta_pdi(datos_simul, escenario = 3)\n",
    "    \n",
    "    # Guardamos los resultados\n",
    "    resultados$mean_A_esc1[rep] <- mean_A_esc1\n",
    "    resultados$mean_B_esc1[rep] <- mean_B_esc1\n",
    "    resultados$mean_A_esc2[rep] <- mean_A_esc2\n",
    "    resultados$mean_B_esc2[rep] <- mean_B_esc2\n",
    "    resultados$mean_A_esc3[rep] <- mean_A_esc3\n",
    "    resultados$mean_B_esc3[rep] <- mean_B_esc3\n",
    "    resultados$theta_PDI_esc1[rep] <- theta_PDI_esc1\n",
    "    resultados$theta_PDI_esc2[rep] <- theta_PDI_esc2\n",
    "    resultados$theta_PDI_esc3[rep] <- theta_PDI_esc3\n",
    "    \n",
    "    # Diferencias con respecto a la media verdadera de la población\n",
    "    media_poblacion <- mean(datos_simul$yi)\n",
    "    resultados$diff_A_esc1[rep] <- mean_A_esc1 - media_poblacion\n",
    "    resultados$diff_B_esc1[rep] <- mean_B_esc1 - media_poblacion\n",
    "    resultados$diff_A_esc2[rep] <- mean_A_esc2 - media_poblacion\n",
    "    resultados$diff_B_esc2[rep] <- mean_B_esc2 - media_poblacion\n",
    "    resultados$diff_A_esc3[rep] <- mean_A_esc3 - media_poblacion\n",
    "    resultados$diff_B_esc3[rep] <- mean_B_esc3 - media_poblacion\n",
    "    resultados$diff_PDI_esc1[rep] <- theta_PDI_esc1 - media_poblacion\n",
    "    resultados$diff_PDI_esc2[rep] <- theta_PDI_esc2 - media_poblacion\n",
    "    resultados$diff_PDI_esc3[rep] <- theta_PDI_esc3 - media_poblacion\n",
    "  }\n",
    "  \n",
    "  return(resultados)\n",
    "}\n",
    "\n",
    "# ---- Ejecución de la simulación de Monte Carlo ----\n",
    "n_reps <- 1000\n",
    "resultados_simulacion <- simulacion_montecarlo(n_reps, size_a, size_muestra_B)"
   ]
  },
  {
   "cell_type": "code",
   "execution_count": 37,
   "id": "4072cdfc-f6aa-4b84-abcc-004368079a30",
   "metadata": {},
   "outputs": [
    {
     "data": {
      "text/html": [
       "<table class=\"dataframe\">\n",
       "<caption>A data.frame: 9 × 4</caption>\n",
       "<thead>\n",
       "\t<tr><th scope=col>Escenario</th><th scope=col>Estimador</th><th scope=col>Sesgo</th><th scope=col>Desviacion</th></tr>\n",
       "\t<tr><th scope=col>&lt;chr&gt;</th><th scope=col>&lt;chr&gt;</th><th scope=col>&lt;dbl&gt;</th><th scope=col>&lt;dbl&gt;</th></tr>\n",
       "</thead>\n",
       "<tbody>\n",
       "\t<tr><td>Esc 1</td><td>A  </td><td>-0.0007039462</td><td>0.02935429</td></tr>\n",
       "\t<tr><td>Esc 1</td><td>B  </td><td>-0.1117933110</td><td>0.01016108</td></tr>\n",
       "\t<tr><td>Esc 1</td><td>PDI</td><td>-0.0003732152</td><td>0.02037333</td></tr>\n",
       "\t<tr><td>Esc 2</td><td>A  </td><td>-0.0007039462</td><td>0.02935429</td></tr>\n",
       "\t<tr><td>Esc 2</td><td>B  </td><td>-1.1003559850</td><td>0.01164277</td></tr>\n",
       "\t<tr><td>Esc 2</td><td>PDI</td><td>-0.4946545522</td><td>0.02058647</td></tr>\n",
       "\t<tr><td>Esc 3</td><td>A  </td><td>-1.0006357189</td><td>0.03001390</td></tr>\n",
       "\t<tr><td>Esc 3</td><td>B  </td><td>-0.1117933110</td><td>0.01016108</td></tr>\n",
       "\t<tr><td>Esc 3</td><td>PDI</td><td>-0.5063026142</td><td>0.02115910</td></tr>\n",
       "</tbody>\n",
       "</table>\n"
      ],
      "text/latex": [
       "A data.frame: 9 × 4\n",
       "\\begin{tabular}{llll}\n",
       " Escenario & Estimador & Sesgo & Desviacion\\\\\n",
       " <chr> & <chr> & <dbl> & <dbl>\\\\\n",
       "\\hline\n",
       "\t Esc 1 & A   & -0.0007039462 & 0.02935429\\\\\n",
       "\t Esc 1 & B   & -0.1117933110 & 0.01016108\\\\\n",
       "\t Esc 1 & PDI & -0.0003732152 & 0.02037333\\\\\n",
       "\t Esc 2 & A   & -0.0007039462 & 0.02935429\\\\\n",
       "\t Esc 2 & B   & -1.1003559850 & 0.01164277\\\\\n",
       "\t Esc 2 & PDI & -0.4946545522 & 0.02058647\\\\\n",
       "\t Esc 3 & A   & -1.0006357189 & 0.03001390\\\\\n",
       "\t Esc 3 & B   & -0.1117933110 & 0.01016108\\\\\n",
       "\t Esc 3 & PDI & -0.5063026142 & 0.02115910\\\\\n",
       "\\end{tabular}\n"
      ],
      "text/markdown": [
       "\n",
       "A data.frame: 9 × 4\n",
       "\n",
       "| Escenario &lt;chr&gt; | Estimador &lt;chr&gt; | Sesgo &lt;dbl&gt; | Desviacion &lt;dbl&gt; |\n",
       "|---|---|---|---|\n",
       "| Esc 1 | A   | -0.0007039462 | 0.02935429 |\n",
       "| Esc 1 | B   | -0.1117933110 | 0.01016108 |\n",
       "| Esc 1 | PDI | -0.0003732152 | 0.02037333 |\n",
       "| Esc 2 | A   | -0.0007039462 | 0.02935429 |\n",
       "| Esc 2 | B   | -1.1003559850 | 0.01164277 |\n",
       "| Esc 2 | PDI | -0.4946545522 | 0.02058647 |\n",
       "| Esc 3 | A   | -1.0006357189 | 0.03001390 |\n",
       "| Esc 3 | B   | -0.1117933110 | 0.01016108 |\n",
       "| Esc 3 | PDI | -0.5063026142 | 0.02115910 |\n",
       "\n"
      ],
      "text/plain": [
       "  Escenario Estimador Sesgo         Desviacion\n",
       "1 Esc 1     A         -0.0007039462 0.02935429\n",
       "2 Esc 1     B         -0.1117933110 0.01016108\n",
       "3 Esc 1     PDI       -0.0003732152 0.02037333\n",
       "4 Esc 2     A         -0.0007039462 0.02935429\n",
       "5 Esc 2     B         -1.1003559850 0.01164277\n",
       "6 Esc 2     PDI       -0.4946545522 0.02058647\n",
       "7 Esc 3     A         -1.0006357189 0.03001390\n",
       "8 Esc 3     B         -0.1117933110 0.01016108\n",
       "9 Esc 3     PDI       -0.5063026142 0.02115910"
      ]
     },
     "metadata": {},
     "output_type": "display_data"
    }
   ],
   "source": [
    "# ---- Presentación de resultados en tablas ----\n",
    "library(dplyr)\n",
    "\n",
    "# Promedios de las diferencias con respecto a la población\n",
    "promedios <- resultados_simulacion %>%\n",
    "  summarise(\n",
    "    Mean_A_Esc1 = mean(diff_A_esc1),\n",
    "    Mean_B_Esc1 = mean(diff_B_esc1),\n",
    "    Theta_PDI_Esc1 = mean(diff_PDI_esc1),\n",
    "    Mean_A_Esc2 = mean(diff_A_esc2),\n",
    "    Mean_B_Esc2 = mean(diff_B_esc2),\n",
    "    Theta_PDI_Esc2 = mean(diff_PDI_esc2),\n",
    "    Mean_A_Esc3 = mean(diff_A_esc3),\n",
    "    Mean_B_Esc3 = mean(diff_B_esc3),\n",
    "    Theta_PDI_Esc3 = mean(diff_PDI_esc3)\n",
    "  )\n",
    "\n",
    "# Desviación estándar de las diferencias\n",
    "desviaciones <- resultados_simulacion %>%\n",
    "  summarise(\n",
    "    SD_A_Esc1 = sd(diff_A_esc1),\n",
    "    SD_B_Esc1 = sd(diff_B_esc1),\n",
    "    SD_Theta_PDI_Esc1 = sd(diff_PDI_esc1),\n",
    "    SD_A_Esc2 = sd(diff_A_esc2),\n",
    "    SD_B_Esc2 = sd(diff_B_esc2),\n",
    "    SD_Theta_PDI_Esc2 = sd(diff_PDI_esc2),\n",
    "    SD_A_Esc3 = sd(diff_A_esc3),\n",
    "    SD_B_Esc3 = sd(diff_B_esc3),\n",
    "    SD_Theta_PDI_Esc3 = sd(diff_PDI_esc3)\n",
    "  )\n",
    "\n",
    "# ---- Organización de los resultados en un solo data.frame ----\n",
    "\n",
    "# Crear un data frame con los resultados\n",
    "resultados_finales <- data.frame(\n",
    "  Escenario = rep(c(\"Esc 1\", \"Esc 2\", \"Esc 3\"), each = 3),\n",
    "  Estimador = rep(c(\"A\", \"B\", \"PDI\"), 3),\n",
    "  Sesgo = c(\n",
    "    promedios$Mean_A_Esc1, promedios$Mean_B_Esc1, promedios$Theta_PDI_Esc1,\n",
    "    promedios$Mean_A_Esc2, promedios$Mean_B_Esc2, promedios$Theta_PDI_Esc2,\n",
    "    promedios$Mean_A_Esc3, promedios$Mean_B_Esc3, promedios$Theta_PDI_Esc3\n",
    "  ),\n",
    "  Desviacion = c(\n",
    "    desviaciones$SD_A_Esc1, desviaciones$SD_B_Esc1, desviaciones$SD_Theta_PDI_Esc1,\n",
    "    desviaciones$SD_A_Esc2, desviaciones$SD_B_Esc2, desviaciones$SD_Theta_PDI_Esc2,\n",
    "    desviaciones$SD_A_Esc3, desviaciones$SD_B_Esc3, desviaciones$SD_Theta_PDI_Esc3\n",
    "  )\n",
    ")\n",
    "\n",
    "# Mostrar el data.frame final\n",
    "resultados_finales"
   ]
  },
  {
   "cell_type": "markdown",
   "id": "6d8a2811-5925-410e-8972-c98c63e74029",
   "metadata": {},
   "source": [
    "#### Creando RegDI"
   ]
  },
  {
   "cell_type": "code",
   "execution_count": 40,
   "id": "7776f2bc-8a1e-4881-8d83-d7580fd5cd50",
   "metadata": {},
   "outputs": [],
   "source": [
    "library(survey)"
   ]
  },
  {
   "cell_type": "code",
   "execution_count": 42,
   "id": "3843358d-b116-420a-8c7e-2d61cf943dcb",
   "metadata": {},
   "outputs": [],
   "source": [
    "n <- 10000 #Tamaño de la población\n",
    "size_a <- 1000 #Tamaño de la muestra no probabilística\n",
    "\n",
    "xi <- rnorm(n, mean = 2, sd = 1) # Generamos xi a partir de una distribución normal N(2, 1)\n",
    "ei <- rnorm(n, mean = 0, sd = sqrt(0.51)) # Generamos ei a partir de una distribución normal N(0, 0.51)\n",
    "yi <- 3 + 0.7 * (xi - 2) + ei # Calculamos yi usando la ecuación yi = 3 + 0.7(xi - 2) + ei\n",
    "ui <- rnorm(n, mean = 0, sd = 0.5) # Generamos ui a partir de una distribución normal N(0, 0.5^2)\n",
    "yi_ast <- 2 + 0.9 * (yi - 3) + ui # Calculamos yi_ast usando la ecuación yi_ast = 2 + 0.9(yi - 3) + ui\n",
    "datos_simul <- data.frame(xi = xi, yi = yi, yi_ast = yi_ast)\n",
    "\n",
    "#Creamos la muestra probabilística\n",
    "datos_simul$muestra_A <- 0\n",
    "indices_seleccionados <- sample(1:n, size = size_a)\n",
    "datos_simul$muestra_A[indices_seleccionados] <- 1\n",
    "\n",
    "#Creamos la muestra no probabilística\n",
    "size_muestra_B <- 5000\n",
    "grupo_1 <- which(datos_simul$xi <= 2)  # Indices del grupo con xi <= 2\n",
    "grupo_2 <- which(datos_simul$xi > 2)   # Indices del grupo con xi > 2\n",
    "n_grupo_1 <- floor((3/5) * size_muestra_B)  # 3/5 del tamaño de la muestra para grupo_1\n",
    "n_grupo_2 <- size_muestra_B - n_grupo_1     # El resto (2/5) para grupo_2\n",
    "muestras_grupo_1 <- sample(grupo_1, size = n_grupo_1)\n",
    "muestras_grupo_2 <- sample(grupo_2, size = n_grupo_2)\n",
    "datos_simul$muestra_B <- 0\n",
    "datos_simul$muestra_B[muestras_grupo_1] <- 1\n",
    "datos_simul$muestra_B[muestras_grupo_2] <- 1"
   ]
  },
  {
   "cell_type": "code",
   "execution_count": 54,
   "id": "6b6a2801-bc69-420a-be76-a189b256c9a1",
   "metadata": {},
   "outputs": [],
   "source": [
    "# Definimos las variables necesarias\n",
    "N <- nrow(datos_simul)  # Tamaño de la población\n",
    "Nb <- sum(datos_simul$muestra_B)  # Tamaño de la muestra B\n",
    "Tb <- sum(datos_simul$yi[datos_simul$muestra_B == 1])  # Total de yi en la muestra B\n",
    "\n",
    "# Creamos la variable de diseño con los pesos de diseño iniciales (muestreo aleatorio simple)\n",
    "design <- svydesign(ids = ~1, data = datos_simul[datos_simul$muestra_A == 1,], weights = ~1, na.rm=T)\n"
   ]
  },
  {
   "cell_type": "code",
   "execution_count": 55,
   "id": "5604a264-2839-4242-83a7-782eaac36551",
   "metadata": {},
   "outputs": [
    {
     "ename": "ERROR",
     "evalue": "Error in h(simpleError(msg, call)): error in evaluating the argument 'x' in selecting a method for function 'colSums': dims [producto 4] no coincide con la longitud del objeto [1000]\n",
     "output_type": "error",
     "traceback": [
      "Error in h(simpleError(msg, call)): error in evaluating the argument 'x' in selecting a method for function 'colSums': dims [producto 4] no coincide con la longitud del objeto [1000]\nTraceback:\n",
      "1. calibrate(design, formula = ~N + Nb + Tb, population = totals)",
      "2. calibrate.survey.design2(design, formula = ~N + Nb + Tb, population = totals)",
      "3. regcalibrate(design, formula, population, aggregate.stage = aggregate.stage, \n .     stage = stage, lambda = variance, sparse = sparse, ...)",
      "4. regcalibrate.survey.design2(design, formula, population, aggregate.stage = aggregate.stage, \n .     stage = stage, lambda = variance, sparse = sparse, ...)",
      "5. colSums(mm * ww)",
      "6. .handleSimpleError(function (cond) \n . .Internal(C_tryCatchHelper(addr, 1L, cond)), \"dims [producto 4] no coincide con la longitud del objeto [1000]\", \n .     base::quote(colSums(mm * ww)))",
      "7. h(simpleError(msg, call))"
     ]
    }
   ],
   "source": [
    "# Definimos los totales conocidos\n",
    "totals <- c(N, Nb, Tb)\n",
    "\n",
    "# Realizamos la calibración usando la función calibrate\n",
    "calibrated_design <- calibrate(design, formula = ~N + Nb + Tb, population = totals)\n",
    "\n",
    "# Obtenemos los pesos calibrados\n",
    "pesos_calibrados <- weights(calibrated_design)\n",
    "\n",
    "# Calculamos el estimador final\n",
    "T_regDI <- sum(pesos_calibrados * datos_simul$yi[datos_simul$muestra_A == 1])\n",
    "\n",
    "T_regDI"
   ]
  },
  {
   "cell_type": "markdown",
   "id": "46729418-40b3-43fd-a6c2-f9b7afac7703",
   "metadata": {},
   "source": [
    "#### Calibración manual"
   ]
  },
  {
   "cell_type": "code",
   "execution_count": 66,
   "id": "c36ed121-30f6-4570-9c97-d0d72a94e05b",
   "metadata": {},
   "outputs": [
    {
     "name": "stderr",
     "output_type": "stream",
     "text": [
      "Warning message in population - sample.total:\n",
      "\"longitud de objeto mayor no es múltiplo de la longitud de uno menor\"\n"
     ]
    },
    {
     "ename": "ERROR",
     "evalue": "Error in solve.default(Tmat, population - sample.total): Lapack routine dgesv: system is exactly singular: U[4,4] = 0\n",
     "output_type": "error",
     "traceback": [
      "Error in solve.default(Tmat, population - sample.total): Lapack routine dgesv: system is exactly singular: U[4,4] = 0\nTraceback:\n",
      "1. calibrate(design, formula = ~uno + muestra_B + I(muestra_B * \n .     yi), population = totals)",
      "2. calibrate.survey.design2(design, formula = ~uno + muestra_B + \n .     I(muestra_B * yi), population = totals)",
      "3. regcalibrate(design, formula, population, aggregate.stage = aggregate.stage, \n .     stage = stage, lambda = variance, sparse = sparse, ...)",
      "4. regcalibrate.survey.design2(design, formula, population, aggregate.stage = aggregate.stage, \n .     stage = stage, lambda = variance, sparse = sparse, ...)",
      "5. solve(Tmat, population - sample.total)",
      "6. solve(Tmat, population - sample.total)",
      "7. solve.default(Tmat, population - sample.total)"
     ]
    }
   ],
   "source": [
    "# Variables auxiliares para la calibración\n",
    "datos_simul$uno <- 1  # Variable que representa N (constante)\n",
    "# Diseño de encuesta usando los pesos originales iguales (muestreo aleatorio simple)\n",
    "design <- svydesign(ids = ~1, data = datos_simul[datos_simul$muestra_A == 1,], weights = ~1)\n",
    "totals <- c(N, Nb, Tb)  # Totales conocidos: N, Nb, y Tb\n",
    "\n",
    "# Calibramos con las variables que sí existen en los datos\n",
    "calibrated_design <- calibrate(\n",
    "  design,\n",
    "  formula = ~uno + muestra_B + I(muestra_B * yi),  # Usamos muestra_B y muestra_B*yi como restricciones\n",
    "  population = totals  # Totales poblacionales para calibrar\n",
    ")\n",
    "\n",
    "# Obtenemos los pesos calibrados\n",
    "pesos_calibrados <- weights(calibrated_design)\n",
    "\n",
    "# Calculamos el estimador RegDI\n",
    "T_regDI <- sum(pesos_calibrados * datos_simul$yi[datos_simul$muestra_A == 1])\n",
    "\n",
    "print(T_regDI)\n"
   ]
  }
 ],
 "metadata": {
  "kernelspec": {
   "display_name": "R",
   "language": "R",
   "name": "ir"
  },
  "language_info": {
   "codemirror_mode": "r",
   "file_extension": ".r",
   "mimetype": "text/x-r-source",
   "name": "R",
   "pygments_lexer": "r",
   "version": "4.3.1"
  }
 },
 "nbformat": 4,
 "nbformat_minor": 5
}
